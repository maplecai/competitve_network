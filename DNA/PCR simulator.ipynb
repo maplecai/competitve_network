{
 "cells": [
  {
   "cell_type": "code",
   "execution_count": 1,
   "metadata": {},
   "outputs": [],
   "source": [
    "import numpy as np"
   ]
  },
  {
   "cell_type": "code",
   "execution_count": null,
   "metadata": {},
   "outputs": [],
   "source": [
    "'''\n",
    "正确图像\n",
    "->A X A\n",
    "  A'X'B'<-\n",
    "相似图像\n",
    "->C Y B\n",
    "  C'Y'B'<-\n",
    "引物\n",
    "->A\n",
    "    B'<-\n",
    "\n",
    "\n",
    "->A Y B\n",
    "'''\n"
   ]
  },
  {
   "cell_type": "code",
   "execution_count": null,
   "metadata": {},
   "outputs": [],
   "source": []
  },
  {
   "cell_type": "code",
   "execution_count": 10,
   "metadata": {},
   "outputs": [],
   "source": [
    "c1 = np.empty(10)\n",
    "c2 = np.empty(10)\n",
    "\n",
    "c1[0] = 1\n",
    "c2[0] = 1\n",
    "\n",
    "for i in range(9):\n",
    "    c1[i+1] = c1[i] + c2[i]\n",
    "    c2[i+1] = c2[i] + c1[i]"
   ]
  },
  {
   "cell_type": "code",
   "execution_count": 11,
   "metadata": {},
   "outputs": [
    {
     "data": {
      "text/plain": [
       "array([  1.,   2.,   4.,   8.,  16.,  32.,  64., 128., 256., 512.])"
      ]
     },
     "execution_count": 11,
     "metadata": {},
     "output_type": "execute_result"
    }
   ],
   "source": [
    "c1"
   ]
  },
  {
   "cell_type": "code",
   "execution_count": null,
   "metadata": {},
   "outputs": [],
   "source": []
  },
  {
   "cell_type": "code",
   "execution_count": 12,
   "metadata": {},
   "outputs": [],
   "source": [
    "c1 = np.empty(10)\n",
    "c2 = np.empty(10)\n",
    "c3 = np.empty(10)\n",
    "c4 = np.empty(10)\n",
    "\n",
    "c1[0] = 1\n",
    "c2[0] = 1\n",
    "c3[0] = 1\n",
    "c4[0] = 1\n",
    "\n",
    "for i in range(9):\n",
    "    c1[i+1] = c1[i]\n",
    "    c2[i+1] = c2[i] + c1[i]\n",
    "    c3[i+1] = c3[i] + c4[i] + 0.5*c2[i]\n",
    "    c4[i+1] = c4[i] + c3[i]"
   ]
  },
  {
   "cell_type": "code",
   "execution_count": 14,
   "metadata": {},
   "outputs": [
    {
     "data": {
      "text/plain": [
       "array([ 1.,  2.,  3.,  4.,  5.,  6.,  7.,  8.,  9., 10.])"
      ]
     },
     "execution_count": 14,
     "metadata": {},
     "output_type": "execute_result"
    }
   ],
   "source": [
    "c2"
   ]
  },
  {
   "cell_type": "code",
   "execution_count": 15,
   "metadata": {},
   "outputs": [
    {
     "data": {
      "text/plain": [
       "array([  1. ,   2.5,   5.5,  11.5,  23.5,  47.5,  95.5, 191.5, 383.5,\n",
       "       767.5])"
      ]
     },
     "execution_count": 15,
     "metadata": {},
     "output_type": "execute_result"
    }
   ],
   "source": [
    "c3"
   ]
  },
  {
   "cell_type": "code",
   "execution_count": 16,
   "metadata": {},
   "outputs": [
    {
     "data": {
      "text/plain": [
       "array([  1. ,   2. ,   4.5,  10. ,  21.5,  45. ,  92.5, 188. , 379.5,\n",
       "       763. ])"
      ]
     },
     "execution_count": 16,
     "metadata": {},
     "output_type": "execute_result"
    }
   ],
   "source": [
    "c4"
   ]
  },
  {
   "cell_type": "code",
   "execution_count": null,
   "metadata": {},
   "outputs": [],
   "source": []
  }
 ],
 "metadata": {
  "kernelspec": {
   "display_name": "Python [conda env:pytorch]",
   "language": "python",
   "name": "conda-env-pytorch-py"
  },
  "language_info": {
   "codemirror_mode": {
    "name": "ipython",
    "version": 3
   },
   "file_extension": ".py",
   "mimetype": "text/x-python",
   "name": "python",
   "nbconvert_exporter": "python",
   "pygments_lexer": "ipython3",
   "version": "3.6.9"
  }
 },
 "nbformat": 4,
 "nbformat_minor": 4
}

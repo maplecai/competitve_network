{
 "cells": [
  {
   "cell_type": "code",
   "execution_count": 2,
   "metadata": {},
   "outputs": [],
   "source": [
    "import numpy as np\n",
    "import matplotlib.pyplot as plt\n",
    "from sklearn.metrics import mean_squared_error as sk_mse\n",
    "from skimage.metrics import structural_similarity as sk_ssim\n",
    "\n",
    "from tqdm import tqdm\n",
    "from utils.utils import *\n",
    "\n",
    "color_list = plt.cm.Pastel1(np.arange(9))"
   ]
  },
  {
   "cell_type": "code",
   "execution_count": 3,
   "metadata": {},
   "outputs": [],
   "source": [
    "def plot_heatmap(y, x=None, title='temp', figures_dir='figures', filename='temp.png', show=False, save=False):\n",
    "    # 热图\n",
    "    m, n = y.shape\n",
    "\n",
    "    plt.figure(figsize=(6, 6), dpi=100)\n",
    "    plt.imshow(y, cmap='Reds', origin='lower', vmin=-0.1, vmax=1.1)\n",
    "    if (x is None):\n",
    "        plt.xticks(np.arange(m), np.arange(m), fontsize=10)\n",
    "        plt.yticks(np.arange(n), np.arange(m), fontsize=10)\n",
    "    else:\n",
    "        plt.xticks(np.arange(m), x, fontsize=10)\n",
    "        plt.yticks(np.arange(n), x, fontsize=10)\n",
    "\n",
    "    # 每个方格上标记数值\n",
    "    for i in range(m):\n",
    "        for j in range(n):\n",
    "            plt.text(j, i, '{:.3f}'.format(y[i, j]), \n",
    "                     ha=\"center\", va=\"center\", color=\"black\", fontsize=10)\n",
    "\n",
    "    plt.title(title)\n",
    "\n",
    "    if (save==True):\n",
    "        plt.savefig(figures_dir + filename)\n",
    "    if (show==True):\n",
    "        plt.show()\n",
    "    plt.close()"
   ]
  },
  {
   "cell_type": "code",
   "execution_count": null,
   "metadata": {},
   "outputs": [],
   "source": []
  },
  {
   "cell_type": "code",
   "execution_count": 10,
   "metadata": {},
   "outputs": [],
   "source": [
    "nB = 3\n",
    "filename = f'results/default/2v{nB}_Ys_pred_list.npy'\n",
    "Ys_pred_list_1 = np.load(filename)[index_list]"
   ]
  },
  {
   "cell_type": "code",
   "execution_count": 11,
   "metadata": {},
   "outputs": [],
   "source": [
    "nB = 3\n",
    "filename = f'2v{nB}_Ys_pred_list.npy'\n",
    "Ys_pred_list_2 = np.load(filename)"
   ]
  },
  {
   "cell_type": "code",
   "execution_count": 12,
   "metadata": {},
   "outputs": [
    {
     "data": {
      "text/plain": [
       "array([[ 0.01576356, -0.01070063,  0.0021943 ,  0.00138144, -0.013414  ,\n",
       "         0.00231912,  0.0017389 , -0.000098  ,  0.00105265],\n",
       "       [ 0.04123779, -0.01284014, -0.06512268, -0.02352048, -0.02604799,\n",
       "         0.09834258, -0.01562227,  0.03491757,  0.96867794],\n",
       "       [ 0.00508546, -0.05869046, -0.0437384 , -0.01841623,  0.09013662,\n",
       "        -0.03208927,  0.01634527,  0.96205264,  0.07926962],\n",
       "       [ 0.04606092, -0.05195778, -0.0557478 , -0.07846057,  0.07992835,\n",
       "         0.07600421,  0.03516877,  0.97145045,  0.9776185 ],\n",
       "       [ 0.00066767,  0.03276269, -0.01644805,  0.01674632, -0.06589659,\n",
       "         0.01932444,  0.98523146,  0.02632939,  0.00154252],\n",
       "       [ 0.00909037, -0.09085569,  0.13436459,  0.11001239,  0.02796002,\n",
       "         0.25212824,  0.55257976,  0.58786094,  1.0149435 ],\n",
       "       [-0.08102568, -0.02898933, -0.04038404,  0.05760971,  0.08952931,\n",
       "        -0.02998023,  1.0215547 ,  0.9410424 ,  0.07060314],\n",
       "       [ 0.00475003,  0.00389681, -0.00785308, -0.00832682, -0.00548055,\n",
       "         0.01305743,  1.003727  ,  1.0028142 ,  0.99353004],\n",
       "       [ 0.01911023, -0.02926218,  0.01379858, -0.0240679 ,  0.03702496,\n",
       "         0.97906303,  0.48501593,  0.43004328,  0.08928977],\n",
       "       [ 0.01597486, -0.02769058,  0.03274327, -0.18912931,  0.23566031,\n",
       "         0.9187973 ,  0.18723091,  0.72383946,  1.1025257 ]],\n",
       "      dtype=float32)"
      ]
     },
     "execution_count": 12,
     "metadata": {},
     "output_type": "execute_result"
    }
   ],
   "source": [
    "Ys_pred_list_1[:10]"
   ]
  },
  {
   "cell_type": "code",
   "execution_count": 13,
   "metadata": {},
   "outputs": [
    {
     "data": {
      "text/plain": [
       "array([[ 0.07418582,  0.03761119,  0.0124235 ,  0.08770672,  0.0575566 ,\n",
       "         0.02007317,  0.18644115,  0.16786316,  0.08330267],\n",
       "       [-0.02584384, -0.02895132, -0.09629866, -0.01947947,  0.08258854,\n",
       "         0.15274039, -0.10493505,  0.15479657,  0.8830439 ],\n",
       "       [-0.08400678,  0.02631087,  0.06728966, -0.03847947,  0.12387366,\n",
       "        -0.09701078,  0.14366597,  0.82678455,  0.0287251 ],\n",
       "       [-0.10573573, -0.05659827, -0.07661495,  0.02396709,  0.20791891,\n",
       "         0.0889114 ,  0.06183147,  0.88709146,  0.96444887],\n",
       "       [ 0.04701532, -0.09706715,  0.02859814,  0.10699724, -0.09364011,\n",
       "         0.02753039,  0.85679805,  0.18036565, -0.05621901],\n",
       "       [ 0.03866743, -0.01905301, -0.02754977, -0.00461382, -0.03381732,\n",
       "         0.05114195,  0.52232105,  0.5697745 ,  0.90319467],\n",
       "       [-0.04921424, -0.09913617, -0.05241233,  0.1413014 ,  0.05105075,\n",
       "        -0.04663977,  1.0432749 ,  0.8381785 ,  0.14743908],\n",
       "       [-0.13669571, -0.06590488, -0.07391672,  0.09593152,  0.16563694,\n",
       "         0.11892654,  0.99306643,  1.0044178 ,  0.8974185 ],\n",
       "       [-0.05336135,  0.00633886,  0.43581513,  0.02735525,  0.06446593,\n",
       "         0.39509055,  0.4318915 ,  0.39065796,  0.30169857],\n",
       "       [-0.02066044, -0.02000048,  0.07685895,  0.00826725,  0.05653273,\n",
       "         0.7924272 ,  0.01881056,  0.9160632 ,  1.1707438 ]],\n",
       "      dtype=float32)"
      ]
     },
     "execution_count": 13,
     "metadata": {},
     "output_type": "execute_result"
    }
   ],
   "source": [
    "Ys_pred_list_2[:10]"
   ]
  },
  {
   "cell_type": "code",
   "execution_count": null,
   "metadata": {},
   "outputs": [],
   "source": []
  },
  {
   "cell_type": "code",
   "execution_count": 4,
   "metadata": {},
   "outputs": [],
   "source": [
    "def generate_Ys_list(dim=3, no_repeat=True):\n",
    "    Ys_list = np.array(list(itertools.product([0, 1], repeat=dim*dim)))\n",
    "    no_repeat_Ys_list = []\n",
    "    index_list = []\n",
    "    if (no_repeat == False):\n",
    "        return Ys_list\n",
    "    else:\n",
    "        for i in range(len(Ys_list)):\n",
    "            Ys = Ys_list[i]\n",
    "            Ys_T = Ys.reshape(dim, dim).T.reshape(-1)\n",
    "            flag = False\n",
    "            for no_repeat_Ys in no_repeat_Ys_list:\n",
    "                if ((no_repeat_Ys == Ys_T).all()):\n",
    "                    flag = True\n",
    "                    break\n",
    "            if (flag == False):\n",
    "                no_repeat_Ys_list.append(Ys)\n",
    "                index_list.append(i)\n",
    "    return no_repeat_Ys_list, index_list\n"
   ]
  },
  {
   "cell_type": "code",
   "execution_count": 5,
   "metadata": {},
   "outputs": [],
   "source": [
    "no_repeat_Ys_list, index_list = generate_Ys_list()"
   ]
  },
  {
   "cell_type": "code",
   "execution_count": 15,
   "metadata": {},
   "outputs": [],
   "source": [
    "Ys_list = generate_Ys_list(dim=3, no_repeat=False)\n",
    "\n",
    "mse_lists = []\n",
    "ssim_lists = []\n",
    "\n",
    "for nB in [2,3,4,5,6]:\n",
    "    filename = f'results/default/2v{nB}_Ys_pred_list.npy'\n",
    "    Ys_pred_list = np.load(filename)[index_list]\n",
    "    mse_list = []\n",
    "    ssim_list = []\n",
    "    for i in range(len(no_repeat_Ys_list)):\n",
    "        mse_list.append(sk_mse(no_repeat_Ys_list[i], Ys_pred_list[i]))\n",
    "        ssim_list.append(sk_ssim(no_repeat_Ys_list[i].astype(np.float32), Ys_pred_list[i]))\n",
    "    mse_lists.append(mse_list)\n",
    "    ssim_lists.append(ssim_list)\n",
    "\n",
    "\n",
    "for nB in [2,3,4,5,6]:\n",
    "    filename = f'results/fix_A/2v{nB}_Ys_pred_list.npy'\n",
    "    Ys_pred_list = np.load(filename)\n",
    "    mse_list = []\n",
    "    ssim_list = []\n",
    "    for i in range(len(no_repeat_Ys_list)):\n",
    "        mse_list.append(sk_mse(no_repeat_Ys_list[i], Ys_pred_list[i]))\n",
    "        ssim_list.append(sk_ssim(no_repeat_Ys_list[i].astype(np.float32), Ys_pred_list[i]))\n",
    "    mse_lists.append(mse_list)\n",
    "    ssim_lists.append(ssim_list)\n",
    "\n",
    "\n",
    "for nB in [3]:\n",
    "    filename = f'2v{nB}_Ys_pred_list.npy'\n",
    "    Ys_pred_list = np.load(filename)\n",
    "    mse_list = []\n",
    "    ssim_list = []\n",
    "    for i in range(len(no_repeat_Ys_list)):\n",
    "        mse_list.append(sk_mse(no_repeat_Ys_list[i], Ys_pred_list[i]))\n",
    "        ssim_list.append(sk_ssim(no_repeat_Ys_list[i].astype(np.float32), Ys_pred_list[i]))\n",
    "    mse_lists.append(mse_list)\n",
    "    ssim_lists.append(ssim_list)\n",
    "\n",
    "\n",
    "\n",
    "\n",
    "mse_lists = np.array(mse_lists)\n",
    "ssim_lists = np.array(ssim_lists)"
   ]
  },
  {
   "cell_type": "code",
   "execution_count": null,
   "metadata": {},
   "outputs": [],
   "source": []
  },
  {
   "cell_type": "code",
   "execution_count": 14,
   "metadata": {},
   "outputs": [
    {
     "data": {
      "text/plain": [
       "\"x = [2,3,4,5]\\nthreshold_list = [0.005, 0.01, 0.02, 0.05, 0.1]\\n\\nplt.figure(figsize=(8, 6))\\n\\nplt.plot(x, data2[:, 0], label='mse<0.005', color=color_list[0])\\nplt.plot(x, data2[:, 1], label='mse<0.01', color=color_list[1])\\nplt.plot(x, data2[:, 2], label='mse<0.02', color=color_list[2])\\nplt.plot(x, data2[:, 3], label='mse<0.05', color=color_list[3])\\nplt.plot(x, data2[:, 4], label='mse<0.1', color=color_list[4])\\nplt.xticks([2,3,4,5])\\n\\nplt.xlabel('receptor numbers')\\nplt.ylabel('ratio in 512 patterns')\\nplt.title('mse<threshold ratio')\\nplt.legend()\\n\\nplt.show()\""
      ]
     },
     "execution_count": 14,
     "metadata": {},
     "output_type": "execute_result"
    }
   ],
   "source": [
    "'''x = [2,3,4,5]\n",
    "threshold_list = [0.005, 0.01, 0.02, 0.05, 0.1]\n",
    "\n",
    "plt.figure(figsize=(8, 6))\n",
    "\n",
    "plt.plot(x, data2[:, 0], label='mse<0.005', color=color_list[0])\n",
    "plt.plot(x, data2[:, 1], label='mse<0.01', color=color_list[1])\n",
    "plt.plot(x, data2[:, 2], label='mse<0.02', color=color_list[2])\n",
    "plt.plot(x, data2[:, 3], label='mse<0.05', color=color_list[3])\n",
    "plt.plot(x, data2[:, 4], label='mse<0.1', color=color_list[4])\n",
    "plt.xticks([2,3,4,5])\n",
    "\n",
    "plt.xlabel('receptor numbers')\n",
    "plt.ylabel('ratio in 512 patterns')\n",
    "plt.title('mse<threshold ratio')\n",
    "plt.legend()\n",
    "\n",
    "plt.show()'''"
   ]
  },
  {
   "cell_type": "code",
   "execution_count": null,
   "metadata": {},
   "outputs": [],
   "source": []
  },
  {
   "cell_type": "code",
   "execution_count": null,
   "metadata": {},
   "outputs": [],
   "source": []
  },
  {
   "cell_type": "code",
   "execution_count": 19,
   "metadata": {},
   "outputs": [
    {
     "data": {
      "text/plain": [
       "(11, 288)"
      ]
     },
     "execution_count": 19,
     "metadata": {},
     "output_type": "execute_result"
    }
   ],
   "source": [
    "mse_lists.shape"
   ]
  },
  {
   "cell_type": "code",
   "execution_count": null,
   "metadata": {},
   "outputs": [],
   "source": []
  },
  {
   "cell_type": "code",
   "execution_count": 17,
   "metadata": {},
   "outputs": [
    {
     "data": {
      "image/png": "[encoded data removed]",
      "text/plain": [
       "<Figure size 800x600 with 1 Axes>"
      ]
     },
     "metadata": {
      "needs_background": "light"
     },
     "output_type": "display_data"
    }
   ],
   "source": [
    "# rectangular box plot\n",
    "plt.figure(figsize=(8, 6), dpi=100)\n",
    "plt.boxplot(mse_lists.T, sym='.', labels=['default2', '3', '4', '5', '6', 'fix2', '3', '4', '5', '6', ''])\n",
    "plt.xlabel('models')\n",
    "plt.ylabel('mse')\n",
    "plt.savefig('figures/mse_boxplot.png')\n",
    "plt.show()"
   ]
  },
  {
   "cell_type": "code",
   "execution_count": 18,
   "metadata": {},
   "outputs": [
    {
     "data": {
      "text/plain": [
       "\"# rectangular box plot\\nplt.figure(figsize=(8, 6), dpi=100)\\nplt.boxplot(ssim_lists.T, sym='.', labels=['default2', '3', '4', '5', '6', 'fix2', '3', '4', '5', '6'])\\nplt.xlabel('models')\\nplt.ylabel('ssim')\\nplt.savefig('figures/ssim_boxplot.png')\\nplt.show()\""
      ]
     },
     "execution_count": 18,
     "metadata": {},
     "output_type": "execute_result"
    }
   ],
   "source": [
    "'''# rectangular box plot\n",
    "plt.figure(figsize=(8, 6), dpi=100)\n",
    "plt.boxplot(ssim_lists.T, sym='.', labels=['default2', '3', '4', '5', '6', 'fix2', '3', '4', '5', '6'])\n",
    "plt.xlabel('models')\n",
    "plt.ylabel('ssim')\n",
    "plt.savefig('figures/ssim_boxplot.png')\n",
    "plt.show()'''"
   ]
  },
  {
   "cell_type": "code",
   "execution_count": null,
   "metadata": {},
   "outputs": [],
   "source": []
  },
  {
   "cell_type": "code",
   "execution_count": null,
   "metadata": {},
   "outputs": [],
   "source": []
  }
 ],
 "metadata": {
  "kernelspec": {
   "display_name": "Python 3.10.4 ('torch')",
   "language": "python",
   "name": "python3"
  },
  "language_info": {
   "codemirror_mode": {
    "name": "ipython",
    "version": 3
   },
   "file_extension": ".py",
   "mimetype": "text/x-python",
   "name": "python",
   "nbconvert_exporter": "python",
   "pygments_lexer": "ipython3",
   "version": "3.10.4"
  },
  "orig_nbformat": 4,
  "vscode": {
   "interpreter": {
    "hash": "c29e719cfc4ae2e0dd8dd6131efd00ad1dc1d270dfa801f2206aff4e9bc92f9b"
   }
  }
 },
 "nbformat": 4,
 "nbformat_minor": 2
}

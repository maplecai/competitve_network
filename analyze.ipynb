{
 "cells": [
  {
   "cell_type": "code",
   "execution_count": 2,
   "metadata": {},
   "outputs": [
    {
     "name": "stdout",
     "output_type": "stream",
     "text": [
      "figures/2v2/\n"
     ]
    }
   ],
   "source": [
    "import numpy as np\n",
    "import itertools\n",
    "import matplotlib.pyplot as plt\n",
    "from sklearn.metrics import mean_squared_error as mse\n",
    "\n",
    "from tqdm import tqdm\n",
    "from utils import *\n",
    "\n",
    "color_list = plt.cm.Pastel1(np.arange(9))\n",
    "set_seed(42)\n",
    "\n",
    "nA = 2\n",
    "nB = 2\n",
    "nY = 1\n",
    "\n",
    "figures_dir = f'figures/2v{nB}/'\n",
    "print(figures_dir)\n",
    "\n",
    "\n",
    "def plot_heatmap(y, x=None, title='temp', show=False, save=False):\n",
    "    # 热图\n",
    "    m, n = y.shape\n",
    "\n",
    "    plt.figure(figsize=(6, 6), dpi=100)\n",
    "    plt.imshow(y, cmap='Reds', origin='lower', vmin=-0.1, vmax=1.1)\n",
    "    if (x is None):\n",
    "        plt.xticks(np.arange(m), np.arange(m), fontsize=10)\n",
    "        plt.yticks(np.arange(n), np.arange(m), fontsize=10)\n",
    "    else:\n",
    "        plt.xticks(np.arange(m), x, fontsize=10)\n",
    "        plt.yticks(np.arange(n), x, fontsize=10)\n",
    "\n",
    "    # 每个方格上标记数值\n",
    "    for i in range(m):\n",
    "        for j in range(n):\n",
    "            plt.text(j, i, '{:.3f}'.format(y[i, j]), \n",
    "                     ha=\"center\", va=\"center\", color=\"black\", fontsize=10)\n",
    "\n",
    "    plt.title(title)\n",
    "\n",
    "    if (save==True):\n",
    "        plt.savefig(figures_dir + title + '.png')\n",
    "    if (show==True):\n",
    "        plt.show()\n",
    "    plt.close()\n",
    "\n",
    "\n",
    "\n",
    "def main():\n",
    "\n",
    "    AT = np.array([0.1, 1, 10])\n",
    "    ATs = np.array(list(itertools.product(AT, AT)))\n",
    "    BTs = np.ones((3*3, nB))\n",
    "\n",
    "    Ys_list = list(itertools.product([0, 1], repeat=9))\n",
    "    Ys_pred_list = np.load(f'{nB}_Ys_pred_list.npy')\n",
    "\n",
    "    loss_list = []\n",
    "\n",
    "    for i in tqdm(range(len(Ys_list))):\n",
    "        Ys = Ys_list[i]\n",
    "        Ys_str = ''.join([str(i) for i in Ys])\n",
    "        Ys_pred = Ys_pred_list[i]\n",
    "\n",
    "        loss = mse(Ys, Ys_pred)\n",
    "        # plot_heatmap(y=Ys_pred.reshape(3, 3), x=AT, title=Ys_str+f'_{loss:.3f}', show=False, save=True)\n",
    "\n",
    "        loss_list.append(loss)\n",
    "\n",
    "    loss_list = np.array(loss_list)\n",
    "\n",
    "    count_list = []\n",
    "    threshold_list = [0.005, 0.01, 0.02, 0.05, 0.1]\n",
    "    for threshold in threshold_list:\n",
    "        count_list.append(np.sum(loss_list<threshold))\n",
    "    count_list = np.array(count_list)\n",
    "    \n",
    "    print('threshold', threshold_list)\n",
    "    print('ratio', count_list / 512)\n",
    "    \n",
    "    plt.hist(loss_list, bins=np.arange(0, 0.3, 0.01), color=color_list[0])\n",
    "    plt.xlabel('MSE')\n",
    "    plt.ylabel('counts')\n",
    "    plt.title('MSE_dist')\n",
    "    #plt.savefig('MSE_dist.png')\n",
    "    #plt.show()\n",
    "    plt.close()\n",
    "\n",
    "    data1.append(loss_list)\n",
    "    data2.append(count_list)"
   ]
  },
  {
   "cell_type": "code",
   "execution_count": 3,
   "metadata": {},
   "outputs": [
    {
     "name": "stderr",
     "output_type": "stream",
     "text": [
      "100%|██████████| 512/512 [00:00<00:00, 8825.47it/s]"
     ]
    },
    {
     "name": "stdout",
     "output_type": "stream",
     "text": [
      "threshold [0.005, 0.01, 0.02, 0.05, 0.1]\n",
      "ratio [0.183594 0.275391 0.34375  0.402344 0.699219]\n"
     ]
    },
    {
     "name": "stderr",
     "output_type": "stream",
     "text": [
      "\n",
      "100%|██████████| 512/512 [00:00<00:00, 9140.80it/s]\n"
     ]
    },
    {
     "name": "stdout",
     "output_type": "stream",
     "text": [
      "threshold [0.005, 0.01, 0.02, 0.05, 0.1]\n",
      "ratio [0.630859 0.708984 0.732422 0.775391 0.917969]\n"
     ]
    },
    {
     "name": "stderr",
     "output_type": "stream",
     "text": [
      "100%|██████████| 512/512 [00:00<00:00, 8980.44it/s]\n"
     ]
    },
    {
     "name": "stdout",
     "output_type": "stream",
     "text": [
      "threshold [0.005, 0.01, 0.02, 0.05, 0.1]\n",
      "ratio [0.763672 0.837891 0.859375 0.886719 0.960938]\n"
     ]
    },
    {
     "name": "stderr",
     "output_type": "stream",
     "text": [
      "100%|██████████| 512/512 [00:00<00:00, 9140.87it/s]\n"
     ]
    },
    {
     "name": "stdout",
     "output_type": "stream",
     "text": [
      "threshold [0.005, 0.01, 0.02, 0.05, 0.1]\n",
      "ratio [0.824219 0.869141 0.890625 0.935547 0.990234]\n"
     ]
    },
    {
     "name": "stderr",
     "output_type": "stream",
     "text": [
      "100%|██████████| 512/512 [00:00<00:00, 9307.06it/s]\n"
     ]
    },
    {
     "name": "stdout",
     "output_type": "stream",
     "text": [
      "threshold [0.005, 0.01, 0.02, 0.05, 0.1]\n",
      "ratio [0.863281 0.919922 0.949219 0.996094 1.      ]\n"
     ]
    }
   ],
   "source": [
    "data1 = []\n",
    "data2 = []\n",
    "for nB in [2,3,4,5,6]:\n",
    "    main()\n",
    "data1 = np.array(data1)\n",
    "data2 = np.array(data2)/512"
   ]
  },
  {
   "cell_type": "code",
   "execution_count": 4,
   "metadata": {},
   "outputs": [
    {
     "name": "stdout",
     "output_type": "stream",
     "text": [
      "(5, 512)\n",
      "(5, 5)\n"
     ]
    }
   ],
   "source": [
    "print(data1.shape)\n",
    "print(data2.shape)"
   ]
  },
  {
   "cell_type": "code",
   "execution_count": 5,
   "metadata": {},
   "outputs": [
    {
     "data": {
      "text/plain": [
       "\"x = [2,3,4,5]\\nthreshold_list = [0.005, 0.01, 0.02, 0.05, 0.1]\\n\\nplt.figure(figsize=(8, 6))\\n\\nplt.plot(x, data2[:, 0], label='mse<0.005', color=color_list[0])\\nplt.plot(x, data2[:, 1], label='mse<0.01', color=color_list[1])\\nplt.plot(x, data2[:, 2], label='mse<0.02', color=color_list[2])\\nplt.plot(x, data2[:, 3], label='mse<0.05', color=color_list[3])\\nplt.plot(x, data2[:, 4], label='mse<0.1', color=color_list[4])\\nplt.xticks([2,3,4,5])\\n\\nplt.xlabel('receptor numbers')\\nplt.ylabel('ratio in 512 patterns')\\nplt.title('mse<threshold ratio')\\nplt.legend()\\n\\nplt.show()\""
      ]
     },
     "execution_count": 5,
     "metadata": {},
     "output_type": "execute_result"
    }
   ],
   "source": [
    "'''x = [2,3,4,5]\n",
    "threshold_list = [0.005, 0.01, 0.02, 0.05, 0.1]\n",
    "\n",
    "plt.figure(figsize=(8, 6))\n",
    "\n",
    "plt.plot(x, data2[:, 0], label='mse<0.005', color=color_list[0])\n",
    "plt.plot(x, data2[:, 1], label='mse<0.01', color=color_list[1])\n",
    "plt.plot(x, data2[:, 2], label='mse<0.02', color=color_list[2])\n",
    "plt.plot(x, data2[:, 3], label='mse<0.05', color=color_list[3])\n",
    "plt.plot(x, data2[:, 4], label='mse<0.1', color=color_list[4])\n",
    "plt.xticks([2,3,4,5])\n",
    "\n",
    "plt.xlabel('receptor numbers')\n",
    "plt.ylabel('ratio in 512 patterns')\n",
    "plt.title('mse<threshold ratio')\n",
    "plt.legend()\n",
    "\n",
    "plt.show()'''"
   ]
  },
  {
   "cell_type": "code",
   "execution_count": null,
   "metadata": {},
   "outputs": [],
   "source": []
  },
  {
   "cell_type": "code",
   "execution_count": null,
   "metadata": {},
   "outputs": [],
   "source": []
  },
  {
   "cell_type": "code",
   "execution_count": 6,
   "metadata": {},
   "outputs": [],
   "source": [
    "def main():\n",
    "\n",
    "    AT = np.array([0.1, 1, 10])\n",
    "    ATs = np.array(list(itertools.product(AT, AT)))\n",
    "    BTs = np.ones((3*3, nB))\n",
    "\n",
    "    Ys_list = list(itertools.product([0, 1], repeat=9))\n",
    "    Ys_pred_list = np.load(f'MLP_{nB}_Ys_pred_list.npy')\n",
    "\n",
    "    loss_list = []\n",
    "\n",
    "    for i in tqdm(range(len(Ys_list))):\n",
    "        Ys = Ys_list[i]\n",
    "        Ys_str = ''.join([str(i) for i in Ys])\n",
    "        Ys_pred = Ys_pred_list[i]\n",
    "\n",
    "        loss = mse(Ys, Ys_pred)\n",
    "        # plot_heatmap(y=Ys_pred.reshape(3, 3), x=AT, title=Ys_str+f'_{loss:.3f}', show=False, save=True)\n",
    "\n",
    "        loss_list.append(loss)\n",
    "\n",
    "    loss_list = np.array(loss_list)\n",
    "\n",
    "    count_list = []\n",
    "    threshold_list = [0.005, 0.01, 0.02, 0.05, 0.1]\n",
    "    for threshold in threshold_list:\n",
    "        count_list.append(np.sum(loss_list<threshold))\n",
    "    count_list = np.array(count_list)\n",
    "    \n",
    "    print('threshold', threshold_list)\n",
    "    print('ratio', count_list / 512)\n",
    "    \n",
    "    plt.hist(loss_list, bins=np.arange(0, 0.3, 0.01), color=color_list[0])\n",
    "    plt.xlabel('MSE')\n",
    "    plt.ylabel('counts')\n",
    "    plt.title('MSE_dist')\n",
    "    #plt.savefig('MSE_dist.png')\n",
    "    #plt.show()\n",
    "    plt.close()\n",
    "\n",
    "\n",
    "\n",
    "    data3.append(loss_list)\n",
    "    data4.append(count_list)"
   ]
  },
  {
   "cell_type": "code",
   "execution_count": 7,
   "metadata": {},
   "outputs": [
    {
     "name": "stderr",
     "output_type": "stream",
     "text": [
      "100%|██████████| 512/512 [00:00<00:00, 8125.08it/s]\n"
     ]
    },
    {
     "name": "stdout",
     "output_type": "stream",
     "text": [
      "threshold [0.005, 0.01, 0.02, 0.05, 0.1]\n",
      "ratio [0.113281 0.115234 0.115234 0.158203 0.472656]\n"
     ]
    },
    {
     "name": "stderr",
     "output_type": "stream",
     "text": [
      "100%|██████████| 512/512 [00:00<00:00, 8825.50it/s]\n"
     ]
    },
    {
     "name": "stdout",
     "output_type": "stream",
     "text": [
      "threshold [0.005, 0.01, 0.02, 0.05, 0.1]\n",
      "ratio [0.273438 0.277344 0.28125  0.398438 0.763672]\n"
     ]
    },
    {
     "name": "stderr",
     "output_type": "stream",
     "text": [
      "100%|██████████| 512/512 [00:00<00:00, 9307.02it/s]\n"
     ]
    },
    {
     "name": "stdout",
     "output_type": "stream",
     "text": [
      "threshold [0.005, 0.01, 0.02, 0.05, 0.1]\n",
      "ratio [0.470703 0.494141 0.519531 0.623047 0.90625 ]\n"
     ]
    },
    {
     "name": "stderr",
     "output_type": "stream",
     "text": [
      "100%|██████████| 512/512 [00:00<00:00, 8980.40it/s]\n"
     ]
    },
    {
     "name": "stdout",
     "output_type": "stream",
     "text": [
      "threshold [0.005, 0.01, 0.02, 0.05, 0.1]\n",
      "ratio [0.666016 0.6875   0.699219 0.779297 0.976562]\n"
     ]
    },
    {
     "name": "stderr",
     "output_type": "stream",
     "text": [
      "100%|██████████| 512/512 [00:00<00:00, 9140.76it/s]\n"
     ]
    },
    {
     "name": "stdout",
     "output_type": "stream",
     "text": [
      "threshold [0.005, 0.01, 0.02, 0.05, 0.1]\n",
      "ratio [0.796875 0.826172 0.845703 0.890625 0.990234]\n"
     ]
    }
   ],
   "source": [
    "data3 = []\n",
    "data4 = []\n",
    "for nB in [2,3,4,5,6]:\n",
    "    main()\n",
    "data3 = np.array(data3)\n",
    "data4 = np.array(data4)/512"
   ]
  },
  {
   "cell_type": "code",
   "execution_count": null,
   "metadata": {},
   "outputs": [],
   "source": []
  },
  {
   "cell_type": "code",
   "execution_count": 8,
   "metadata": {},
   "outputs": [],
   "source": [
    "data5 = np.concatenate([data1, data3])"
   ]
  },
  {
   "cell_type": "code",
   "execution_count": 9,
   "metadata": {},
   "outputs": [
    {
     "data": {
      "image/png": "[encoded data removed]",
      "text/plain": [
       "<Figure size 800x600 with 1 Axes>"
      ]
     },
     "metadata": {
      "needs_background": "light"
     },
     "output_type": "display_data"
    }
   ],
   "source": [
    "# rectangular box plot\n",
    "plt.figure(figsize=(8, 6), dpi=100)\n",
    "plt.boxplot(data5.T, sym='.', labels=['comp2', 'comp3', 'comp4', 'comp5', 'comp6', 'MLP2', 'MLP3', 'MLP4', 'MLP5', 'MLP6'])\n",
    "plt.xlabel('models')\n",
    "plt.ylabel('mse loss')\n",
    "plt.savefig('figures/boxplot.png')\n",
    "plt.show()"
   ]
  },
  {
   "cell_type": "code",
   "execution_count": null,
   "metadata": {},
   "outputs": [],
   "source": []
  },
  {
   "cell_type": "code",
   "execution_count": null,
   "metadata": {},
   "outputs": [],
   "source": []
  }
 ],
 "metadata": {
  "kernelspec": {
   "display_name": "Python 3.10.4 ('torch')",
   "language": "python",
   "name": "python3"
  },
  "language_info": {
   "codemirror_mode": {
    "name": "ipython",
    "version": 3
   },
   "file_extension": ".py",
   "mimetype": "text/x-python",
   "name": "python",
   "nbconvert_exporter": "python",
   "pygments_lexer": "ipython3",
   "version": "3.10.4"
  },
  "orig_nbformat": 4,
  "vscode": {
   "interpreter": {
    "hash": "c29e719cfc4ae2e0dd8dd6131efd00ad1dc1d270dfa801f2206aff4e9bc92f9b"
   }
  }
 },
 "nbformat": 4,
 "nbformat_minor": 2
}
